{
 "cells": [
  {
   "cell_type": "markdown",
   "id": "09ab88fe",
   "metadata": {},
   "source": [
    "# Importing libraries"
   ]
  },
  {
   "cell_type": "code",
   "execution_count": 1,
   "id": "a71803d8",
   "metadata": {},
   "outputs": [],
   "source": [
    "import pandas as pd\n",
    "import matplotlib.pyplot as plt\n",
    "import numpy as np\n",
    "from sklearn.preprocessing import OneHotEncoder, StandardScaler\n",
    "from sklearn.compose import ColumnTransformer\n",
    "from sklearn.pipeline import Pipeline\n",
    "from sklearn.tree import DecisionTreeClassifier\n",
    "from sklearn.linear_model import LogisticRegression\n",
    "from sklearn.metrics import accuracy_score, classification_report, confusion_matrix\n"
   ]
  },
  {
   "cell_type": "markdown",
   "id": "7e353526",
   "metadata": {},
   "source": [
    "# Importing the dataset"
   ]
  },
  {
   "cell_type": "code",
   "execution_count": 2,
   "id": "a7119d92",
   "metadata": {},
   "outputs": [],
   "source": [
    "df = pd.read_csv(\"./stroke_risk_dataset.csv\")\n",
    "\n",
    "df = df.drop(columns=[\"Stroke Risk (%)\"])"
   ]
  },
  {
   "cell_type": "markdown",
   "id": "1ecca284",
   "metadata": {},
   "source": [
    "# Cleaning the dataset"
   ]
  },
  {
   "cell_type": "markdown",
   "id": "6fb7cd03",
   "metadata": {},
   "source": [
    "## 1. Dropping uncessary columns"
   ]
  },
  {
   "cell_type": "code",
   "execution_count": 3,
   "id": "b133a29a",
   "metadata": {},
   "outputs": [],
   "source": [
    "# df = df.drop(columns=[\"Unnamed: 0\"])\n",
    "# df"
   ]
  },
  {
   "cell_type": "markdown",
   "id": "70de04cc",
   "metadata": {},
   "source": [
    "## 2. Finding Null values"
   ]
  },
  {
   "cell_type": "code",
   "execution_count": 4,
   "id": "80c4d716",
   "metadata": {},
   "outputs": [
    {
     "data": {
      "text/plain": [
       "Chest Pain                        0\n",
       "Shortness of Breath               0\n",
       "Irregular Heartbeat               0\n",
       "Fatigue & Weakness                0\n",
       "Dizziness                         0\n",
       "Swelling (Edema)                  0\n",
       "Pain in Neck/Jaw/Shoulder/Back    0\n",
       "Excessive Sweating                0\n",
       "Persistent Cough                  0\n",
       "Nausea/Vomiting                   0\n",
       "High Blood Pressure               0\n",
       "Chest Discomfort (Activity)       0\n",
       "Cold Hands/Feet                   0\n",
       "Snoring/Sleep Apnea               0\n",
       "Anxiety/Feeling of Doom           0\n",
       "Age                               0\n",
       "At Risk (Binary)                  0\n",
       "dtype: int64"
      ]
     },
     "execution_count": 4,
     "metadata": {},
     "output_type": "execute_result"
    }
   ],
   "source": [
    "df.isna().sum()"
   ]
  },
  {
   "cell_type": "code",
   "execution_count": 5,
   "id": "8d032ff1",
   "metadata": {},
   "outputs": [],
   "source": [
    "# probs = df['Alcohol_Consumption'].value_counts(normalize=True)\n",
    "# null_mask = df['Alcohol_Consumption'].isna()\n",
    "# df.loc[null_mask, 'Alcohol_Consumption'] = np.random.choice(probs.index, size=null_mask.sum(), p=probs.values)"
   ]
  },
  {
   "cell_type": "code",
   "execution_count": 6,
   "id": "539d02d3",
   "metadata": {},
   "outputs": [],
   "source": [
    "# df['Alcohol_Consumption'].value_counts()\n",
    "\n",
    "df = df.dropna()"
   ]
  },
  {
   "cell_type": "markdown",
   "id": "c688c872",
   "metadata": {},
   "source": [
    "Replaced null values according to their probabilities to avoid bias"
   ]
  },
  {
   "cell_type": "markdown",
   "id": "926c0d76",
   "metadata": {},
   "source": [
    "# Finding categorial and numerical columns"
   ]
  },
  {
   "cell_type": "code",
   "execution_count": 7,
   "id": "bf488df7",
   "metadata": {},
   "outputs": [
    {
     "data": {
      "text/plain": [
       "([],\n",
       " ['Chest Pain',\n",
       "  'Shortness of Breath',\n",
       "  'Irregular Heartbeat',\n",
       "  'Fatigue & Weakness',\n",
       "  'Dizziness',\n",
       "  'Swelling (Edema)',\n",
       "  'Pain in Neck/Jaw/Shoulder/Back',\n",
       "  'Excessive Sweating',\n",
       "  'Persistent Cough',\n",
       "  'Nausea/Vomiting',\n",
       "  'High Blood Pressure',\n",
       "  'Chest Discomfort (Activity)',\n",
       "  'Cold Hands/Feet',\n",
       "  'Snoring/Sleep Apnea',\n",
       "  'Anxiety/Feeling of Doom',\n",
       "  'Age'])"
      ]
     },
     "execution_count": 7,
     "metadata": {},
     "output_type": "execute_result"
    }
   ],
   "source": [
    "categorical_column_names = []\n",
    "numerical_column_names = []\n",
    "target_column_name = \"At Risk (Binary)\"\n",
    "for column_name, data_type in df.dtypes.items():\n",
    "    # check if the datatype is categorial or not\n",
    "    if isinstance(data_type, np.dtypes.ObjectDType) and column_name is not target_column_name:\n",
    "        categorical_column_names.append(column_name)\n",
    "    else:\n",
    "        if column_name != target_column_name:\n",
    "            numerical_column_names.append(column_name)\n",
    "\n",
    "categorical_column_names, numerical_column_names"
   ]
  },
  {
   "cell_type": "markdown",
   "id": "490dc037",
   "metadata": {},
   "source": [
    "# Exploratory Data Analysis (EDA)"
   ]
  },
  {
   "cell_type": "code",
   "execution_count": 8,
   "id": "1fa09688",
   "metadata": {},
   "outputs": [],
   "source": [
    "# # Sample DataFrame\n",
    "\n",
    "# # Count 0s and 1s\n",
    "# counts = df['Previous_Gestational_Diabetes'].value_counts().sort_index()  # Optional: sort_index() puts 0 before 1\n",
    "\n",
    "# # --- Bar Chart ---\n",
    "# plt.figure(figsize=(6,4))\n",
    "# plt.bar(counts.index.astype(str), counts.values)\n",
    "# plt.title(\"Count of 0s and 1s in 'status' column\")\n",
    "# plt.xlabel(\"Diabetes\")\n",
    "# plt.ylabel(\"Count\")\n",
    "# plt.show()\n",
    "\n",
    "# # --- Pie Chart (optional) ---\n",
    "# plt.figure(figsize=(6,6))\n",
    "# plt.pie(counts.values, labels=['0', '1'], autopct='%1.1f%%', startangle=90)\n",
    "# plt.title(\"Distribution of 0s and 1s in 'Diabetes'\")\n",
    "# plt.axis('equal')\n",
    "# plt.show()"
   ]
  },
  {
   "cell_type": "markdown",
   "id": "93b0315f",
   "metadata": {},
   "source": [
    "Dataset is balanced to avoid model bias towards a single class"
   ]
  },
  {
   "cell_type": "markdown",
   "id": "ffc4b322",
   "metadata": {},
   "source": [
    "# Data Preprocessing"
   ]
  },
  {
   "cell_type": "markdown",
   "id": "d492e3db",
   "metadata": {},
   "source": [
    "## Splitting the dataset into independend features and target"
   ]
  },
  {
   "cell_type": "code",
   "execution_count": 9,
   "id": "2ba82b55",
   "metadata": {},
   "outputs": [],
   "source": [
    "X = df.iloc[:, :-1]\n",
    "\n",
    "y = df.iloc[:, -1]"
   ]
  },
  {
   "cell_type": "markdown",
   "id": "2fa7c80f",
   "metadata": {},
   "source": [
    "## Train test split"
   ]
  },
  {
   "cell_type": "code",
   "execution_count": 10,
   "id": "5b55a8b0",
   "metadata": {},
   "outputs": [],
   "source": [
    "from sklearn.model_selection import train_test_split\n",
    "from imblearn.over_sampling import SMOTE\n",
    "\n",
    "X_train, X_test, y_train, y_test = train_test_split(X, y, test_size=0.2, random_state=42)\n",
    "\n",
    "# smote = SMOTE(random_state = 14)\n",
    "\n",
    "# X_train, y_train = smote.fit_resample(X_train, y_train)\n"
   ]
  },
  {
   "cell_type": "code",
   "execution_count": 11,
   "id": "3458d1c5",
   "metadata": {},
   "outputs": [],
   "source": [
    "# Define columns\n",
    "categorical_cols = categorical_column_names\n",
    "numerical_cols = numerical_column_names\n",
    "\n",
    "# Create transformers\n",
    "\n",
    "if len(categorical_column_names) == 0:  \n",
    "    preprocessor = ColumnTransformer([\n",
    "        # ('cat', OneHotEncoder(handle_unknown='ignore'), categorical_cols),\n",
    "        ('num', StandardScaler(), numerical_cols)\n",
    "    ])\n",
    "else:\n",
    "    preprocessor = ColumnTransformer([\n",
    "        ('cat', OneHotEncoder(handle_unknown='ignore'), categorical_cols),\n",
    "        ('num', StandardScaler(), numerical_cols)\n",
    "    ])\n",
    "# Fit on training data\n",
    "X_train = preprocessor.fit_transform(X_train)\n",
    "X_test = preprocessor.fit_transform(X_test)"
   ]
  },
  {
   "cell_type": "code",
   "execution_count": 12,
   "id": "ff10bb7b",
   "metadata": {},
   "outputs": [
    {
     "data": {
      "text/html": [
       "<div>\n",
       "<style scoped>\n",
       "    .dataframe tbody tr th:only-of-type {\n",
       "        vertical-align: middle;\n",
       "    }\n",
       "\n",
       "    .dataframe tbody tr th {\n",
       "        vertical-align: top;\n",
       "    }\n",
       "\n",
       "    .dataframe thead th {\n",
       "        text-align: right;\n",
       "    }\n",
       "</style>\n",
       "<table border=\"1\" class=\"dataframe\">\n",
       "  <thead>\n",
       "    <tr style=\"text-align: right;\">\n",
       "      <th></th>\n",
       "      <th>0</th>\n",
       "      <th>1</th>\n",
       "      <th>2</th>\n",
       "      <th>3</th>\n",
       "      <th>4</th>\n",
       "      <th>5</th>\n",
       "      <th>6</th>\n",
       "      <th>7</th>\n",
       "      <th>8</th>\n",
       "      <th>9</th>\n",
       "      <th>10</th>\n",
       "      <th>11</th>\n",
       "      <th>12</th>\n",
       "      <th>13</th>\n",
       "      <th>14</th>\n",
       "      <th>15</th>\n",
       "    </tr>\n",
       "  </thead>\n",
       "  <tbody>\n",
       "    <tr>\n",
       "      <th>0</th>\n",
       "      <td>0.997788</td>\n",
       "      <td>-0.992315</td>\n",
       "      <td>-0.996079</td>\n",
       "      <td>-0.999643</td>\n",
       "      <td>0.993663</td>\n",
       "      <td>-1.003184</td>\n",
       "      <td>-1.001966</td>\n",
       "      <td>0.992138</td>\n",
       "      <td>-1.003900</td>\n",
       "      <td>1.001537</td>\n",
       "      <td>-1.002611</td>\n",
       "      <td>-0.998465</td>\n",
       "      <td>1.001322</td>\n",
       "      <td>-0.99925</td>\n",
       "      <td>-1.001608</td>\n",
       "      <td>-1.613315</td>\n",
       "    </tr>\n",
       "    <tr>\n",
       "      <th>1</th>\n",
       "      <td>-1.002217</td>\n",
       "      <td>1.007744</td>\n",
       "      <td>-0.996079</td>\n",
       "      <td>-0.999643</td>\n",
       "      <td>-1.006377</td>\n",
       "      <td>0.996826</td>\n",
       "      <td>-1.001966</td>\n",
       "      <td>0.992138</td>\n",
       "      <td>-1.003900</td>\n",
       "      <td>1.001537</td>\n",
       "      <td>-1.002611</td>\n",
       "      <td>-0.998465</td>\n",
       "      <td>-0.998679</td>\n",
       "      <td>1.00075</td>\n",
       "      <td>0.998394</td>\n",
       "      <td>-1.234034</td>\n",
       "    </tr>\n",
       "    <tr>\n",
       "      <th>2</th>\n",
       "      <td>-1.002217</td>\n",
       "      <td>1.007744</td>\n",
       "      <td>1.003936</td>\n",
       "      <td>-0.999643</td>\n",
       "      <td>-1.006377</td>\n",
       "      <td>0.996826</td>\n",
       "      <td>0.998038</td>\n",
       "      <td>0.992138</td>\n",
       "      <td>-1.003900</td>\n",
       "      <td>-0.998465</td>\n",
       "      <td>0.997396</td>\n",
       "      <td>-0.998465</td>\n",
       "      <td>-0.998679</td>\n",
       "      <td>-0.99925</td>\n",
       "      <td>0.998394</td>\n",
       "      <td>1.515755</td>\n",
       "    </tr>\n",
       "    <tr>\n",
       "      <th>3</th>\n",
       "      <td>-1.002217</td>\n",
       "      <td>-0.992315</td>\n",
       "      <td>1.003936</td>\n",
       "      <td>-0.999643</td>\n",
       "      <td>-1.006377</td>\n",
       "      <td>0.996826</td>\n",
       "      <td>0.998038</td>\n",
       "      <td>-1.007924</td>\n",
       "      <td>-1.003900</td>\n",
       "      <td>1.001537</td>\n",
       "      <td>0.997396</td>\n",
       "      <td>-0.998465</td>\n",
       "      <td>1.001322</td>\n",
       "      <td>1.00075</td>\n",
       "      <td>-1.001608</td>\n",
       "      <td>1.183884</td>\n",
       "    </tr>\n",
       "    <tr>\n",
       "      <th>4</th>\n",
       "      <td>0.997788</td>\n",
       "      <td>1.007744</td>\n",
       "      <td>-0.996079</td>\n",
       "      <td>1.000357</td>\n",
       "      <td>-1.006377</td>\n",
       "      <td>0.996826</td>\n",
       "      <td>0.998038</td>\n",
       "      <td>-1.007924</td>\n",
       "      <td>0.996115</td>\n",
       "      <td>-0.998465</td>\n",
       "      <td>-1.002611</td>\n",
       "      <td>1.001537</td>\n",
       "      <td>1.001322</td>\n",
       "      <td>-0.99925</td>\n",
       "      <td>-1.001608</td>\n",
       "      <td>0.425321</td>\n",
       "    </tr>\n",
       "    <tr>\n",
       "      <th>...</th>\n",
       "      <td>...</td>\n",
       "      <td>...</td>\n",
       "      <td>...</td>\n",
       "      <td>...</td>\n",
       "      <td>...</td>\n",
       "      <td>...</td>\n",
       "      <td>...</td>\n",
       "      <td>...</td>\n",
       "      <td>...</td>\n",
       "      <td>...</td>\n",
       "      <td>...</td>\n",
       "      <td>...</td>\n",
       "      <td>...</td>\n",
       "      <td>...</td>\n",
       "      <td>...</td>\n",
       "      <td>...</td>\n",
       "    </tr>\n",
       "    <tr>\n",
       "      <th>55995</th>\n",
       "      <td>-1.002217</td>\n",
       "      <td>-0.992315</td>\n",
       "      <td>-0.996079</td>\n",
       "      <td>-0.999643</td>\n",
       "      <td>0.993663</td>\n",
       "      <td>0.996826</td>\n",
       "      <td>-1.001966</td>\n",
       "      <td>0.992138</td>\n",
       "      <td>0.996115</td>\n",
       "      <td>-0.998465</td>\n",
       "      <td>-1.002611</td>\n",
       "      <td>-0.998465</td>\n",
       "      <td>-0.998679</td>\n",
       "      <td>-0.99925</td>\n",
       "      <td>-1.001608</td>\n",
       "      <td>0.709782</td>\n",
       "    </tr>\n",
       "    <tr>\n",
       "      <th>55996</th>\n",
       "      <td>0.997788</td>\n",
       "      <td>1.007744</td>\n",
       "      <td>-0.996079</td>\n",
       "      <td>-0.999643</td>\n",
       "      <td>0.993663</td>\n",
       "      <td>0.996826</td>\n",
       "      <td>0.998038</td>\n",
       "      <td>0.992138</td>\n",
       "      <td>-1.003900</td>\n",
       "      <td>1.001537</td>\n",
       "      <td>-1.002611</td>\n",
       "      <td>1.001537</td>\n",
       "      <td>-0.998679</td>\n",
       "      <td>1.00075</td>\n",
       "      <td>-1.001608</td>\n",
       "      <td>-1.186623</td>\n",
       "    </tr>\n",
       "    <tr>\n",
       "      <th>55997</th>\n",
       "      <td>0.997788</td>\n",
       "      <td>-0.992315</td>\n",
       "      <td>-0.996079</td>\n",
       "      <td>1.000357</td>\n",
       "      <td>0.993663</td>\n",
       "      <td>0.996826</td>\n",
       "      <td>-1.001966</td>\n",
       "      <td>-1.007924</td>\n",
       "      <td>0.996115</td>\n",
       "      <td>-0.998465</td>\n",
       "      <td>0.997396</td>\n",
       "      <td>1.001537</td>\n",
       "      <td>-0.998679</td>\n",
       "      <td>1.00075</td>\n",
       "      <td>-1.001608</td>\n",
       "      <td>-1.423674</td>\n",
       "    </tr>\n",
       "    <tr>\n",
       "      <th>55998</th>\n",
       "      <td>0.997788</td>\n",
       "      <td>-0.992315</td>\n",
       "      <td>-0.996079</td>\n",
       "      <td>1.000357</td>\n",
       "      <td>0.993663</td>\n",
       "      <td>0.996826</td>\n",
       "      <td>0.998038</td>\n",
       "      <td>0.992138</td>\n",
       "      <td>0.996115</td>\n",
       "      <td>1.001537</td>\n",
       "      <td>0.997396</td>\n",
       "      <td>1.001537</td>\n",
       "      <td>1.001322</td>\n",
       "      <td>-0.99925</td>\n",
       "      <td>0.998394</td>\n",
       "      <td>1.610575</td>\n",
       "    </tr>\n",
       "    <tr>\n",
       "      <th>55999</th>\n",
       "      <td>0.997788</td>\n",
       "      <td>1.007744</td>\n",
       "      <td>1.003936</td>\n",
       "      <td>1.000357</td>\n",
       "      <td>0.993663</td>\n",
       "      <td>0.996826</td>\n",
       "      <td>-1.001966</td>\n",
       "      <td>0.992138</td>\n",
       "      <td>-1.003900</td>\n",
       "      <td>-0.998465</td>\n",
       "      <td>-1.002611</td>\n",
       "      <td>-0.998465</td>\n",
       "      <td>1.001322</td>\n",
       "      <td>1.00075</td>\n",
       "      <td>0.998394</td>\n",
       "      <td>1.657985</td>\n",
       "    </tr>\n",
       "  </tbody>\n",
       "</table>\n",
       "<p>56000 rows × 16 columns</p>\n",
       "</div>"
      ],
      "text/plain": [
       "             0         1         2         3         4         5         6   \\\n",
       "0      0.997788 -0.992315 -0.996079 -0.999643  0.993663 -1.003184 -1.001966   \n",
       "1     -1.002217  1.007744 -0.996079 -0.999643 -1.006377  0.996826 -1.001966   \n",
       "2     -1.002217  1.007744  1.003936 -0.999643 -1.006377  0.996826  0.998038   \n",
       "3     -1.002217 -0.992315  1.003936 -0.999643 -1.006377  0.996826  0.998038   \n",
       "4      0.997788  1.007744 -0.996079  1.000357 -1.006377  0.996826  0.998038   \n",
       "...         ...       ...       ...       ...       ...       ...       ...   \n",
       "55995 -1.002217 -0.992315 -0.996079 -0.999643  0.993663  0.996826 -1.001966   \n",
       "55996  0.997788  1.007744 -0.996079 -0.999643  0.993663  0.996826  0.998038   \n",
       "55997  0.997788 -0.992315 -0.996079  1.000357  0.993663  0.996826 -1.001966   \n",
       "55998  0.997788 -0.992315 -0.996079  1.000357  0.993663  0.996826  0.998038   \n",
       "55999  0.997788  1.007744  1.003936  1.000357  0.993663  0.996826 -1.001966   \n",
       "\n",
       "             7         8         9         10        11        12       13  \\\n",
       "0      0.992138 -1.003900  1.001537 -1.002611 -0.998465  1.001322 -0.99925   \n",
       "1      0.992138 -1.003900  1.001537 -1.002611 -0.998465 -0.998679  1.00075   \n",
       "2      0.992138 -1.003900 -0.998465  0.997396 -0.998465 -0.998679 -0.99925   \n",
       "3     -1.007924 -1.003900  1.001537  0.997396 -0.998465  1.001322  1.00075   \n",
       "4     -1.007924  0.996115 -0.998465 -1.002611  1.001537  1.001322 -0.99925   \n",
       "...         ...       ...       ...       ...       ...       ...      ...   \n",
       "55995  0.992138  0.996115 -0.998465 -1.002611 -0.998465 -0.998679 -0.99925   \n",
       "55996  0.992138 -1.003900  1.001537 -1.002611  1.001537 -0.998679  1.00075   \n",
       "55997 -1.007924  0.996115 -0.998465  0.997396  1.001537 -0.998679  1.00075   \n",
       "55998  0.992138  0.996115  1.001537  0.997396  1.001537  1.001322 -0.99925   \n",
       "55999  0.992138 -1.003900 -0.998465 -1.002611 -0.998465  1.001322  1.00075   \n",
       "\n",
       "             14        15  \n",
       "0     -1.001608 -1.613315  \n",
       "1      0.998394 -1.234034  \n",
       "2      0.998394  1.515755  \n",
       "3     -1.001608  1.183884  \n",
       "4     -1.001608  0.425321  \n",
       "...         ...       ...  \n",
       "55995 -1.001608  0.709782  \n",
       "55996 -1.001608 -1.186623  \n",
       "55997 -1.001608 -1.423674  \n",
       "55998  0.998394  1.610575  \n",
       "55999  0.998394  1.657985  \n",
       "\n",
       "[56000 rows x 16 columns]"
      ]
     },
     "execution_count": 12,
     "metadata": {},
     "output_type": "execute_result"
    }
   ],
   "source": [
    "pd.DataFrame(X_train)"
   ]
  },
  {
   "cell_type": "markdown",
   "id": "75fcc461",
   "metadata": {},
   "source": [
    "# Training our model"
   ]
  },
  {
   "cell_type": "code",
   "execution_count": 13,
   "id": "866cb4d8",
   "metadata": {},
   "outputs": [
    {
     "name": "stdout",
     "output_type": "stream",
     "text": [
      "📊 Decision Tree Results\n",
      "Accuracy: 0.8855\n",
      "              precision    recall  f1-score   support\n",
      "\n",
      "           0       0.84      0.83      0.84      4892\n",
      "           1       0.91      0.91      0.91      9108\n",
      "\n",
      "    accuracy                           0.89     14000\n",
      "   macro avg       0.87      0.87      0.87     14000\n",
      "weighted avg       0.89      0.89      0.89     14000\n",
      "\n"
     ]
    }
   ],
   "source": [
    "# Initialize and train the model\n",
    "dt_model = DecisionTreeClassifier(random_state=28)\n",
    "dt_model.fit(X_train, y_train)\n",
    "\n",
    "# Predict\n",
    "dt_preds = dt_model.predict(X_test)\n",
    "\n",
    "# Evaluation\n",
    "print(\"📊 Decision Tree Results\")\n",
    "print(\"Accuracy:\", accuracy_score(y_test, dt_preds))\n",
    "print(classification_report(y_test, dt_preds))"
   ]
  },
  {
   "cell_type": "code",
   "execution_count": 14,
   "id": "2bf6c17d",
   "metadata": {},
   "outputs": [
    {
     "name": "stdout",
     "output_type": "stream",
     "text": [
      "📊 Logistic Regression Results\n",
      "Accuracy: 1.0\n",
      "              precision    recall  f1-score   support\n",
      "\n",
      "           0       1.00      1.00      1.00      4892\n",
      "           1       1.00      1.00      1.00      9108\n",
      "\n",
      "    accuracy                           1.00     14000\n",
      "   macro avg       1.00      1.00      1.00     14000\n",
      "weighted avg       1.00      1.00      1.00     14000\n",
      "\n"
     ]
    },
    {
     "data": {
      "image/png": "[encoded data removed]",
      "text/plain": [
       "<Figure size 640x480 with 2 Axes>"
      ]
     },
     "metadata": {},
     "output_type": "display_data"
    }
   ],
   "source": [
    "from sklearn.linear_model import LogisticRegression\n",
    "from sklearn.metrics import accuracy_score, classification_report, confusion_matrix\n",
    "\n",
    "# Train the model\n",
    "lr_model = LogisticRegression(max_iter=10000)  # increase max_iter if convergence warnings\n",
    "lr_model.fit(X_train, y_train)\n",
    "\n",
    "# Predict\n",
    "lr_preds = lr_model.predict(X_test)\n",
    "\n",
    "# Evaluate\n",
    "print(\"📊 Logistic Regression Results\")\n",
    "print(\"Accuracy:\", accuracy_score(y_test, lr_preds))\n",
    "print(classification_report(y_test, lr_preds))\n",
    "\n",
    "# Confusion matrix\n",
    "import seaborn as sns\n",
    "import matplotlib.pyplot as plt\n",
    "\n",
    "cm = confusion_matrix(y_test, lr_preds)\n",
    "sns.heatmap(cm, annot=True, fmt='d', cmap='Greens')\n",
    "plt.title(\"Logistic Regression - Confusion Matrix\")\n",
    "plt.xlabel(\"Predicted\")\n",
    "plt.ylabel(\"Actual\")\n",
    "plt.show()\n"
   ]
  },
  {
   "cell_type": "code",
   "execution_count": 15,
   "id": "42c5f174",
   "metadata": {},
   "outputs": [
    {
     "name": "stdout",
     "output_type": "stream",
     "text": [
      "📊 Neural Network (MLP) Results\n",
      "Accuracy: 0.9960714285714286\n",
      "              precision    recall  f1-score   support\n",
      "\n",
      "           0       0.99      0.99      0.99      4892\n",
      "           1       1.00      1.00      1.00      9108\n",
      "\n",
      "    accuracy                           1.00     14000\n",
      "   macro avg       1.00      1.00      1.00     14000\n",
      "weighted avg       1.00      1.00      1.00     14000\n",
      "\n"
     ]
    },
    {
     "data": {
      "image/png": "[encoded data removed]",
      "text/plain": [
       "<Figure size 640x480 with 2 Axes>"
      ]
     },
     "metadata": {},
     "output_type": "display_data"
    }
   ],
   "source": [
    "from sklearn.neural_network import MLPClassifier\n",
    "\n",
    "# Create and train the model\n",
    "nn_model = MLPClassifier(hidden_layer_sizes=(64, 32), max_iter=500, random_state=42)\n",
    "nn_model.fit(X_train, y_train)\n",
    "\n",
    "# Predict\n",
    "nn_preds = nn_model.predict(X_test)\n",
    "\n",
    "# Evaluate\n",
    "print(\"📊 Neural Network (MLP) Results\")\n",
    "print(\"Accuracy:\", accuracy_score(y_test, nn_preds))\n",
    "print(classification_report(y_test, nn_preds))\n",
    "\n",
    "# Confusion matrix\n",
    "cm_nn = confusion_matrix(y_test, nn_preds)\n",
    "sns.heatmap(cm_nn, annot=True, fmt='d', cmap='Purples')\n",
    "plt.title(\"Neural Network - Confusion Matrix\")\n",
    "plt.xlabel(\"Predicted\")\n",
    "plt.ylabel(\"Actual\")\n",
    "plt.show()\n"
   ]
  },
  {
   "cell_type": "code",
   "execution_count": 16,
   "id": "fdcee247",
   "metadata": {},
   "outputs": [
    {
     "name": "stderr",
     "output_type": "stream",
     "text": [
      "d:\\disha-ml-project\\disha-ml-project-venv\\Lib\\site-packages\\xgboost\\training.py:183: UserWarning: [15:54:50] WARNING: C:\\actions-runner\\_work\\xgboost\\xgboost\\src\\learner.cc:738: \n",
      "Parameters: { \"use_label_encoder\" } are not used.\n",
      "\n",
      "  bst.update(dtrain, iteration=i, fobj=obj)\n"
     ]
    },
    {
     "name": "stdout",
     "output_type": "stream",
     "text": [
      "📊 XGBoost Classifier Results\n",
      "Accuracy: 0.5494285714285714\n",
      "              precision    recall  f1-score   support\n",
      "\n",
      "           0       0.44      1.00      0.61      4892\n",
      "           1       1.00      0.31      0.47      9108\n",
      "\n",
      "    accuracy                           0.55     14000\n",
      "   macro avg       0.72      0.65      0.54     14000\n",
      "weighted avg       0.80      0.55      0.52     14000\n",
      "\n"
     ]
    },
    {
     "data": {
      "image/png": "[encoded data removed]",
      "text/plain": [
       "<Figure size 640x480 with 2 Axes>"
      ]
     },
     "metadata": {},
     "output_type": "display_data"
    }
   ],
   "source": [
    "from xgboost import XGBClassifier\n",
    "from sklearn.metrics import accuracy_score, classification_report, confusion_matrix\n",
    "import seaborn as sns\n",
    "import matplotlib.pyplot as plt\n",
    "\n",
    "# Train the model\n",
    "xgb_model = XGBClassifier(use_label_encoder=False, eval_metric='logloss')\n",
    "xgb_model.fit(X_train, y_train)\n",
    "\n",
    "# Predict\n",
    "xgb_preds = xgb_model.predict(X_test)\n",
    "\n",
    "# Evaluate\n",
    "print(\"📊 XGBoost Classifier Results\")\n",
    "print(\"Accuracy:\", accuracy_score(y_test, xgb_preds))\n",
    "print(classification_report(y_test, xgb_preds))\n",
    "\n",
    "# Confusion Matrix\n",
    "cm = confusion_matrix(y_test, xgb_preds)\n",
    "sns.heatmap(cm, annot=True, fmt='d', cmap='Blues')\n",
    "plt.title(\"XGBoost - Confusion Matrix\")\n",
    "plt.xlabel(\"Predicted\")\n",
    "plt.ylabel(\"Actual\")\n",
    "plt.show()\n"
   ]
  },
  {
   "cell_type": "code",
   "execution_count": 17,
   "id": "eb934749",
   "metadata": {},
   "outputs": [
    {
     "name": "stdout",
     "output_type": "stream",
     "text": [
      "📊 Random Forest Classifier Results\n",
      "Accuracy: 0.9479285714285715\n",
      "              precision    recall  f1-score   support\n",
      "\n",
      "           0       0.94      0.91      0.92      4892\n",
      "           1       0.95      0.97      0.96      9108\n",
      "\n",
      "    accuracy                           0.95     14000\n",
      "   macro avg       0.95      0.94      0.94     14000\n",
      "weighted avg       0.95      0.95      0.95     14000\n",
      "\n"
     ]
    },
    {
     "data": {
      "image/png": "[encoded data removed]",
      "text/plain": [
       "<Figure size 640x480 with 2 Axes>"
      ]
     },
     "metadata": {},
     "output_type": "display_data"
    }
   ],
   "source": [
    "from sklearn.ensemble import RandomForestClassifier\n",
    "from sklearn.metrics import accuracy_score, classification_report, confusion_matrix\n",
    "import seaborn as sns\n",
    "import matplotlib.pyplot as plt\n",
    "\n",
    "# Train the model\n",
    "rf_model = RandomForestClassifier(n_estimators=100, random_state=42)\n",
    "rf_model.fit(X_train, y_train)\n",
    "\n",
    "# Predict\n",
    "rf_preds = rf_model.predict(X_test)\n",
    "\n",
    "# Evaluate\n",
    "print(\"📊 Random Forest Classifier Results\")\n",
    "print(\"Accuracy:\", accuracy_score(y_test, rf_preds))\n",
    "print(classification_report(y_test, rf_preds))\n",
    "\n",
    "# Confusion Matrix\n",
    "cm = confusion_matrix(y_test, rf_preds)\n",
    "sns.heatmap(cm, annot=True, fmt='d', cmap='Oranges')\n",
    "plt.title(\"Random Forest - Confusion Matrix\")\n",
    "plt.xlabel(\"Predicted\")\n",
    "plt.ylabel(\"Actual\")\n",
    "plt.show()\n"
   ]
  }
 ],
 "metadata": {
  "kernelspec": {
   "display_name": "disha-ml-project-venv",
   "language": "python",
   "name": "python3"
  },
  "language_info": {
   "codemirror_mode": {
    "name": "ipython",
    "version": 3
   },
   "file_extension": ".py",
   "mimetype": "text/x-python",
   "name": "python",
   "nbconvert_exporter": "python",
   "pygments_lexer": "ipython3",
   "version": "3.12.7"
  }
 },
 "nbformat": 4,
 "nbformat_minor": 5
}
