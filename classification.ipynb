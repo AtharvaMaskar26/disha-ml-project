{
 "cells": [
  {
   "cell_type": "markdown",
   "id": "09ab88fe",
   "metadata": {},
   "source": [
    "# Importing libraries"
   ]
  },
  {
   "cell_type": "code",
   "execution_count": 1,
   "id": "a71803d8",
   "metadata": {},
   "outputs": [],
   "source": [
    "import pandas as pd\n",
    "import matplotlib.pyplot as plt\n",
    "import numpy as np\n",
    "from sklearn.preprocessing import OneHotEncoder, StandardScaler\n",
    "from sklearn.compose import ColumnTransformer\n",
    "from sklearn.pipeline import Pipeline\n",
    "from sklearn.tree import DecisionTreeClassifier\n",
    "from sklearn.linear_model import LogisticRegression\n",
    "from sklearn.metrics import accuracy_score, classification_report, confusion_matrix\n"
   ]
  },
  {
   "cell_type": "markdown",
   "id": "7e353526",
   "metadata": {},
   "source": [
    "# Importing the dataset"
   ]
  },
  {
   "cell_type": "code",
   "execution_count": 18,
   "id": "a7119d92",
   "metadata": {},
   "outputs": [
    {
     "name": "stdout",
     "output_type": "stream",
     "text": [
      "<class 'pandas.core.frame.DataFrame'>\n",
      "RangeIndex: 2139 entries, 0 to 2138\n",
      "Data columns (total 23 columns):\n",
      " #   Column    Non-Null Count  Dtype  \n",
      "---  ------    --------------  -----  \n",
      " 0   time      2139 non-null   int64  \n",
      " 1   trt       2139 non-null   int64  \n",
      " 2   age       2139 non-null   int64  \n",
      " 3   wtkg      2139 non-null   float64\n",
      " 4   hemo      2139 non-null   int64  \n",
      " 5   homo      2139 non-null   int64  \n",
      " 6   drugs     2139 non-null   int64  \n",
      " 7   karnof    2139 non-null   int64  \n",
      " 8   oprior    2139 non-null   int64  \n",
      " 9   z30       2139 non-null   int64  \n",
      " 10  preanti   2139 non-null   int64  \n",
      " 11  race      2139 non-null   int64  \n",
      " 12  gender    2139 non-null   int64  \n",
      " 13  str2      2139 non-null   int64  \n",
      " 14  strat     2139 non-null   int64  \n",
      " 15  symptom   2139 non-null   int64  \n",
      " 16  treat     2139 non-null   int64  \n",
      " 17  offtrt    2139 non-null   int64  \n",
      " 18  cd40      2139 non-null   int64  \n",
      " 19  cd420     2139 non-null   int64  \n",
      " 20  cd80      2139 non-null   int64  \n",
      " 21  cd820     2139 non-null   int64  \n",
      " 22  infected  2139 non-null   int64  \n",
      "dtypes: float64(1), int64(22)\n",
      "memory usage: 384.5 KB\n"
     ]
    }
   ],
   "source": [
    "df = pd.read_csv(\"./AIDS_Classification.csv\")\n",
    "\n",
    "# df = df.drop(columns=[\"Stroke Risk (%)\"])\n",
    "df.info()"
   ]
  },
  {
   "cell_type": "markdown",
   "id": "1ecca284",
   "metadata": {},
   "source": [
    "# Cleaning the dataset"
   ]
  },
  {
   "cell_type": "code",
   "execution_count": null,
   "id": "75bdb050",
   "metadata": {},
   "outputs": [],
   "source": [
    "# Data wrangling and cleaning\n",
    "\n",
    "# --- 1. Remove duplicates ---\n",
    "df.drop_duplicates(inplace=True)\n",
    "\n",
    "# --- 2. Standardize column names ---\n",
    "df.columns = df.columns.str.strip().str.lower().str.replace(\" \", \"_\")\n",
    "\n",
    "# --- 3. Handle missing values ---\n",
    "# Drop rows where more than 30% of the values are missing\n",
    "df.dropna(thresh=int(0.7 * len(df.columns)), inplace=True)\n",
    "\n",
    "# Optional: Preview the cleaned DataFrame\n",
    "print(\"✅ Cleaned DataFrame Shape:\", df.shape)\n",
    "print(df.head())"
   ]
  },
  {
   "cell_type": "markdown",
   "id": "6fb7cd03",
   "metadata": {},
   "source": [
    "## 1. Dropping uncessary columns"
   ]
  },
  {
   "cell_type": "code",
   "execution_count": 3,
   "id": "b133a29a",
   "metadata": {},
   "outputs": [],
   "source": [
    "# df = df.drop(columns=[\"Unnamed: 0\"])\n",
    "# df"
   ]
  },
  {
   "cell_type": "markdown",
   "id": "70de04cc",
   "metadata": {},
   "source": [
    "## 2. Finding Null values"
   ]
  },
  {
   "cell_type": "code",
   "execution_count": 4,
   "id": "80c4d716",
   "metadata": {},
   "outputs": [
    {
     "data": {
      "text/plain": [
       "time        0\n",
       "trt         0\n",
       "age         0\n",
       "wtkg        0\n",
       "hemo        0\n",
       "homo        0\n",
       "drugs       0\n",
       "karnof      0\n",
       "oprior      0\n",
       "z30         0\n",
       "preanti     0\n",
       "race        0\n",
       "gender      0\n",
       "str2        0\n",
       "strat       0\n",
       "symptom     0\n",
       "treat       0\n",
       "offtrt      0\n",
       "cd40        0\n",
       "cd420       0\n",
       "cd80        0\n",
       "cd820       0\n",
       "infected    0\n",
       "dtype: int64"
      ]
     },
     "execution_count": 4,
     "metadata": {},
     "output_type": "execute_result"
    }
   ],
   "source": [
    "df.isna().sum()"
   ]
  },
  {
   "cell_type": "code",
   "execution_count": 5,
   "id": "8d032ff1",
   "metadata": {},
   "outputs": [],
   "source": [
    "# probs = df['Alcohol_Consumption'].value_counts(normalize=True)\n",
    "# null_mask = df['Alcohol_Consumption'].isna()\n",
    "# df.loc[null_mask, 'Alcohol_Consumption'] = np.random.choice(probs.index, size=null_mask.sum(), p=probs.values)"
   ]
  },
  {
   "cell_type": "code",
   "execution_count": 6,
   "id": "539d02d3",
   "metadata": {},
   "outputs": [],
   "source": [
    "# df['Alcohol_Consumption'].value_counts()\n",
    "\n",
    "df = df.dropna()"
   ]
  },
  {
   "cell_type": "markdown",
   "id": "c688c872",
   "metadata": {},
   "source": [
    "Replaced null values according to their probabilities to avoid bias"
   ]
  },
  {
   "cell_type": "markdown",
   "id": "926c0d76",
   "metadata": {},
   "source": [
    "# Finding categorial and numerical columns"
   ]
  },
  {
   "cell_type": "code",
   "execution_count": 7,
   "id": "bf488df7",
   "metadata": {},
   "outputs": [
    {
     "data": {
      "text/plain": [
       "([],\n",
       " ['time',\n",
       "  'trt',\n",
       "  'age',\n",
       "  'wtkg',\n",
       "  'hemo',\n",
       "  'homo',\n",
       "  'drugs',\n",
       "  'karnof',\n",
       "  'oprior',\n",
       "  'z30',\n",
       "  'preanti',\n",
       "  'race',\n",
       "  'gender',\n",
       "  'str2',\n",
       "  'strat',\n",
       "  'symptom',\n",
       "  'treat',\n",
       "  'offtrt',\n",
       "  'cd40',\n",
       "  'cd420',\n",
       "  'cd80',\n",
       "  'cd820'])"
      ]
     },
     "execution_count": 7,
     "metadata": {},
     "output_type": "execute_result"
    }
   ],
   "source": [
    "categorical_column_names = []\n",
    "numerical_column_names = []\n",
    "target_column_name = \"infected\"\n",
    "for column_name, data_type in df.dtypes.items():\n",
    "    # check if the datatype is categorial or not\n",
    "    if isinstance(data_type, np.dtypes.ObjectDType) and column_name is not target_column_name:\n",
    "        categorical_column_names.append(column_name)\n",
    "    else:\n",
    "        if column_name != target_column_name:\n",
    "            numerical_column_names.append(column_name)\n",
    "\n",
    "categorical_column_names, numerical_column_names"
   ]
  },
  {
   "cell_type": "markdown",
   "id": "490dc037",
   "metadata": {},
   "source": [
    "# Exploratory Data Analysis (EDA)"
   ]
  },
  {
   "cell_type": "code",
   "execution_count": 8,
   "id": "1fa09688",
   "metadata": {},
   "outputs": [],
   "source": [
    "# # Sample DataFrame\n",
    "\n",
    "# # Count 0s and 1s\n",
    "# counts = df['Previous_Gestational_Diabetes'].value_counts().sort_index()  # Optional: sort_index() puts 0 before 1\n",
    "\n",
    "# # --- Bar Chart ---\n",
    "# plt.figure(figsize=(6,4))\n",
    "# plt.bar(counts.index.astype(str), counts.values)\n",
    "# plt.title(\"Count of 0s and 1s in 'status' column\")\n",
    "# plt.xlabel(\"Diabetes\")\n",
    "# plt.ylabel(\"Count\")\n",
    "# plt.show()\n",
    "\n",
    "# # --- Pie Chart (optional) ---\n",
    "# plt.figure(figsize=(6,6))\n",
    "# plt.pie(counts.values, labels=['0', '1'], autopct='%1.1f%%', startangle=90)\n",
    "# plt.title(\"Distribution of 0s and 1s in 'Diabetes'\")\n",
    "# plt.axis('equal')\n",
    "# plt.show()"
   ]
  },
  {
   "cell_type": "markdown",
   "id": "93b0315f",
   "metadata": {},
   "source": [
    "Dataset is balanced to avoid model bias towards a single class"
   ]
  },
  {
   "cell_type": "markdown",
   "id": "ffc4b322",
   "metadata": {},
   "source": [
    "# Data Preprocessing"
   ]
  },
  {
   "cell_type": "markdown",
   "id": "d492e3db",
   "metadata": {},
   "source": [
    "## Splitting the dataset into independend features and target"
   ]
  },
  {
   "cell_type": "code",
   "execution_count": 9,
   "id": "2ba82b55",
   "metadata": {},
   "outputs": [],
   "source": [
    "X = df.iloc[:, :-1]\n",
    "\n",
    "y = df.iloc[:, -1]"
   ]
  },
  {
   "cell_type": "markdown",
   "id": "2fa7c80f",
   "metadata": {},
   "source": [
    "## Train test split"
   ]
  },
  {
   "cell_type": "code",
   "execution_count": 10,
   "id": "5b55a8b0",
   "metadata": {},
   "outputs": [],
   "source": [
    "from sklearn.model_selection import train_test_split\n",
    "from imblearn.over_sampling import SMOTE\n",
    "\n",
    "X_train, X_test, y_train, y_test = train_test_split(X, y, test_size=0.2, random_state=42)\n",
    "\n",
    "# smote = SMOTE(random_state = 14)\n",
    "\n",
    "# X_train, y_train = smote.fit_resample(X_train, y_train)\n"
   ]
  },
  {
   "cell_type": "code",
   "execution_count": 11,
   "id": "3458d1c5",
   "metadata": {},
   "outputs": [],
   "source": [
    "# Define columns\n",
    "categorical_cols = categorical_column_names\n",
    "numerical_cols = numerical_column_names\n",
    "\n",
    "# Create transformers\n",
    "\n",
    "if len(categorical_column_names) == 0:  \n",
    "    preprocessor = ColumnTransformer([\n",
    "        ('cat', OneHotEncoder(handle_unknown='ignore'), categorical_cols),\n",
    "        ('num', StandardScaler(), numerical_cols)\n",
    "    ])\n",
    "else:\n",
    "    preprocessor = ColumnTransformer([\n",
    "        ('cat', OneHotEncoder(handle_unknown='ignore'), categorical_cols),\n",
    "        ('num', StandardScaler(), numerical_cols)\n",
    "    ])\n",
    "# Fit on training data\n",
    "X_train = preprocessor.fit_transform(X_train)\n",
    "X_test = preprocessor.fit_transform(X_test)"
   ]
  },
  {
   "cell_type": "code",
   "execution_count": 12,
   "id": "ff10bb7b",
   "metadata": {},
   "outputs": [
    {
     "data": {
      "text/html": [
       "<div>\n",
       "<style scoped>\n",
       "    .dataframe tbody tr th:only-of-type {\n",
       "        vertical-align: middle;\n",
       "    }\n",
       "\n",
       "    .dataframe tbody tr th {\n",
       "        vertical-align: top;\n",
       "    }\n",
       "\n",
       "    .dataframe thead th {\n",
       "        text-align: right;\n",
       "    }\n",
       "</style>\n",
       "<table border=\"1\" class=\"dataframe\">\n",
       "  <thead>\n",
       "    <tr style=\"text-align: right;\">\n",
       "      <th></th>\n",
       "      <th>0</th>\n",
       "      <th>1</th>\n",
       "      <th>2</th>\n",
       "      <th>3</th>\n",
       "      <th>4</th>\n",
       "      <th>5</th>\n",
       "      <th>6</th>\n",
       "      <th>7</th>\n",
       "      <th>8</th>\n",
       "      <th>9</th>\n",
       "      <th>...</th>\n",
       "      <th>12</th>\n",
       "      <th>13</th>\n",
       "      <th>14</th>\n",
       "      <th>15</th>\n",
       "      <th>16</th>\n",
       "      <th>17</th>\n",
       "      <th>18</th>\n",
       "      <th>19</th>\n",
       "      <th>20</th>\n",
       "      <th>21</th>\n",
       "    </tr>\n",
       "  </thead>\n",
       "  <tbody>\n",
       "    <tr>\n",
       "      <th>0</th>\n",
       "      <td>0.464926</td>\n",
       "      <td>0.433243</td>\n",
       "      <td>-0.697447</td>\n",
       "      <td>1.474676</td>\n",
       "      <td>-0.300838</td>\n",
       "      <td>-1.398247</td>\n",
       "      <td>-0.374041</td>\n",
       "      <td>-0.922598</td>\n",
       "      <td>-0.146603</td>\n",
       "      <td>-1.125267</td>\n",
       "      <td>...</td>\n",
       "      <td>0.459237</td>\n",
       "      <td>-1.204695</td>\n",
       "      <td>-1.105098</td>\n",
       "      <td>-0.444231</td>\n",
       "      <td>0.572176</td>\n",
       "      <td>-0.763409</td>\n",
       "      <td>-0.595483</td>\n",
       "      <td>-0.145292</td>\n",
       "      <td>-0.026340</td>\n",
       "      <td>-0.294955</td>\n",
       "    </tr>\n",
       "    <tr>\n",
       "      <th>1</th>\n",
       "      <td>0.750867</td>\n",
       "      <td>-1.348677</td>\n",
       "      <td>-1.269460</td>\n",
       "      <td>-0.304207</td>\n",
       "      <td>3.324048</td>\n",
       "      <td>-1.398247</td>\n",
       "      <td>-0.374041</td>\n",
       "      <td>0.776611</td>\n",
       "      <td>-0.146603</td>\n",
       "      <td>0.888678</td>\n",
       "      <td>...</td>\n",
       "      <td>0.459237</td>\n",
       "      <td>0.830086</td>\n",
       "      <td>0.005191</td>\n",
       "      <td>-0.444231</td>\n",
       "      <td>-1.747713</td>\n",
       "      <td>1.309913</td>\n",
       "      <td>0.105845</td>\n",
       "      <td>0.711481</td>\n",
       "      <td>-0.471168</td>\n",
       "      <td>-0.313603</td>\n",
       "    </tr>\n",
       "    <tr>\n",
       "      <th>2</th>\n",
       "      <td>0.359400</td>\n",
       "      <td>-1.348677</td>\n",
       "      <td>-0.011032</td>\n",
       "      <td>-0.050824</td>\n",
       "      <td>-0.300838</td>\n",
       "      <td>-1.398247</td>\n",
       "      <td>2.673503</td>\n",
       "      <td>-0.922598</td>\n",
       "      <td>-0.146603</td>\n",
       "      <td>0.888678</td>\n",
       "      <td>...</td>\n",
       "      <td>0.459237</td>\n",
       "      <td>0.830086</td>\n",
       "      <td>0.005191</td>\n",
       "      <td>-0.444231</td>\n",
       "      <td>-1.747713</td>\n",
       "      <td>1.309913</td>\n",
       "      <td>0.790475</td>\n",
       "      <td>-0.241250</td>\n",
       "      <td>1.522085</td>\n",
       "      <td>0.453299</td>\n",
       "    </tr>\n",
       "    <tr>\n",
       "      <th>3</th>\n",
       "      <td>0.727039</td>\n",
       "      <td>0.433243</td>\n",
       "      <td>-0.239837</td>\n",
       "      <td>0.983126</td>\n",
       "      <td>-0.300838</td>\n",
       "      <td>0.715181</td>\n",
       "      <td>-0.374041</td>\n",
       "      <td>-0.922598</td>\n",
       "      <td>-0.146603</td>\n",
       "      <td>-1.125267</td>\n",
       "      <td>...</td>\n",
       "      <td>0.459237</td>\n",
       "      <td>-1.204695</td>\n",
       "      <td>-1.105098</td>\n",
       "      <td>-0.444231</td>\n",
       "      <td>0.572176</td>\n",
       "      <td>-0.763409</td>\n",
       "      <td>-0.553737</td>\n",
       "      <td>-0.590814</td>\n",
       "      <td>-0.892695</td>\n",
       "      <td>-0.789129</td>\n",
       "    </tr>\n",
       "    <tr>\n",
       "      <th>4</th>\n",
       "      <td>0.417269</td>\n",
       "      <td>1.324203</td>\n",
       "      <td>-0.583045</td>\n",
       "      <td>-0.084724</td>\n",
       "      <td>-0.300838</td>\n",
       "      <td>0.715181</td>\n",
       "      <td>-0.374041</td>\n",
       "      <td>0.776611</td>\n",
       "      <td>-0.146603</td>\n",
       "      <td>-1.125267</td>\n",
       "      <td>...</td>\n",
       "      <td>0.459237</td>\n",
       "      <td>-1.204695</td>\n",
       "      <td>-1.105098</td>\n",
       "      <td>2.251083</td>\n",
       "      <td>0.572176</td>\n",
       "      <td>-0.763409</td>\n",
       "      <td>-0.637229</td>\n",
       "      <td>-0.467438</td>\n",
       "      <td>-0.835503</td>\n",
       "      <td>-0.602648</td>\n",
       "    </tr>\n",
       "    <tr>\n",
       "      <th>...</th>\n",
       "      <td>...</td>\n",
       "      <td>...</td>\n",
       "      <td>...</td>\n",
       "      <td>...</td>\n",
       "      <td>...</td>\n",
       "      <td>...</td>\n",
       "      <td>...</td>\n",
       "      <td>...</td>\n",
       "      <td>...</td>\n",
       "      <td>...</td>\n",
       "      <td>...</td>\n",
       "      <td>...</td>\n",
       "      <td>...</td>\n",
       "      <td>...</td>\n",
       "      <td>...</td>\n",
       "      <td>...</td>\n",
       "      <td>...</td>\n",
       "      <td>...</td>\n",
       "      <td>...</td>\n",
       "      <td>...</td>\n",
       "      <td>...</td>\n",
       "    </tr>\n",
       "    <tr>\n",
       "      <th>1706</th>\n",
       "      <td>-0.001430</td>\n",
       "      <td>-1.348677</td>\n",
       "      <td>0.103370</td>\n",
       "      <td>3.135777</td>\n",
       "      <td>-0.300838</td>\n",
       "      <td>-1.398247</td>\n",
       "      <td>-0.374041</td>\n",
       "      <td>-0.922598</td>\n",
       "      <td>-0.146603</td>\n",
       "      <td>-1.125267</td>\n",
       "      <td>...</td>\n",
       "      <td>-2.177524</td>\n",
       "      <td>-1.204695</td>\n",
       "      <td>-1.105098</td>\n",
       "      <td>-0.444231</td>\n",
       "      <td>-1.747713</td>\n",
       "      <td>1.309913</td>\n",
       "      <td>-1.271764</td>\n",
       "      <td>-1.132294</td>\n",
       "      <td>0.498981</td>\n",
       "      <td>0.576842</td>\n",
       "    </tr>\n",
       "    <tr>\n",
       "      <th>1707</th>\n",
       "      <td>0.607897</td>\n",
       "      <td>-1.348677</td>\n",
       "      <td>1.018590</td>\n",
       "      <td>0.661076</td>\n",
       "      <td>-0.300838</td>\n",
       "      <td>0.715181</td>\n",
       "      <td>-0.374041</td>\n",
       "      <td>0.776611</td>\n",
       "      <td>-0.146603</td>\n",
       "      <td>0.888678</td>\n",
       "      <td>...</td>\n",
       "      <td>0.459237</td>\n",
       "      <td>0.830086</td>\n",
       "      <td>1.115481</td>\n",
       "      <td>-0.444231</td>\n",
       "      <td>-1.747713</td>\n",
       "      <td>-0.763409</td>\n",
       "      <td>0.823872</td>\n",
       "      <td>0.567543</td>\n",
       "      <td>-0.426685</td>\n",
       "      <td>-0.462787</td>\n",
       "    </tr>\n",
       "    <tr>\n",
       "      <th>1708</th>\n",
       "      <td>0.073459</td>\n",
       "      <td>-0.457717</td>\n",
       "      <td>-0.583045</td>\n",
       "      <td>-0.789988</td>\n",
       "      <td>-0.300838</td>\n",
       "      <td>0.715181</td>\n",
       "      <td>-0.374041</td>\n",
       "      <td>0.776611</td>\n",
       "      <td>-0.146603</td>\n",
       "      <td>0.888678</td>\n",
       "      <td>...</td>\n",
       "      <td>0.459237</td>\n",
       "      <td>0.830086</td>\n",
       "      <td>0.005191</td>\n",
       "      <td>2.251083</td>\n",
       "      <td>0.572176</td>\n",
       "      <td>-0.763409</td>\n",
       "      <td>-0.011043</td>\n",
       "      <td>-0.542834</td>\n",
       "      <td>-0.337719</td>\n",
       "      <td>-0.332251</td>\n",
       "    </tr>\n",
       "    <tr>\n",
       "      <th>1709</th>\n",
       "      <td>-1.900897</td>\n",
       "      <td>-0.457717</td>\n",
       "      <td>-0.125435</td>\n",
       "      <td>-0.508474</td>\n",
       "      <td>-0.300838</td>\n",
       "      <td>0.715181</td>\n",
       "      <td>-0.374041</td>\n",
       "      <td>-0.922598</td>\n",
       "      <td>-0.146603</td>\n",
       "      <td>0.888678</td>\n",
       "      <td>...</td>\n",
       "      <td>0.459237</td>\n",
       "      <td>0.830086</td>\n",
       "      <td>1.115481</td>\n",
       "      <td>-0.444231</td>\n",
       "      <td>0.572176</td>\n",
       "      <td>1.309913</td>\n",
       "      <td>-0.628880</td>\n",
       "      <td>-1.570962</td>\n",
       "      <td>0.649375</td>\n",
       "      <td>0.138613</td>\n",
       "    </tr>\n",
       "    <tr>\n",
       "      <th>1710</th>\n",
       "      <td>-1.325611</td>\n",
       "      <td>0.433243</td>\n",
       "      <td>1.018590</td>\n",
       "      <td>2.020066</td>\n",
       "      <td>-0.300838</td>\n",
       "      <td>0.715181</td>\n",
       "      <td>-0.374041</td>\n",
       "      <td>-2.621807</td>\n",
       "      <td>-0.146603</td>\n",
       "      <td>-1.125267</td>\n",
       "      <td>...</td>\n",
       "      <td>0.459237</td>\n",
       "      <td>-1.204695</td>\n",
       "      <td>-1.105098</td>\n",
       "      <td>-0.444231</td>\n",
       "      <td>0.572176</td>\n",
       "      <td>1.309913</td>\n",
       "      <td>-1.054686</td>\n",
       "      <td>-0.755314</td>\n",
       "      <td>-0.558015</td>\n",
       "      <td>-0.901017</td>\n",
       "    </tr>\n",
       "  </tbody>\n",
       "</table>\n",
       "<p>1711 rows × 22 columns</p>\n",
       "</div>"
      ],
      "text/plain": [
       "            0         1         2         3         4         5         6   \\\n",
       "0     0.464926  0.433243 -0.697447  1.474676 -0.300838 -1.398247 -0.374041   \n",
       "1     0.750867 -1.348677 -1.269460 -0.304207  3.324048 -1.398247 -0.374041   \n",
       "2     0.359400 -1.348677 -0.011032 -0.050824 -0.300838 -1.398247  2.673503   \n",
       "3     0.727039  0.433243 -0.239837  0.983126 -0.300838  0.715181 -0.374041   \n",
       "4     0.417269  1.324203 -0.583045 -0.084724 -0.300838  0.715181 -0.374041   \n",
       "...        ...       ...       ...       ...       ...       ...       ...   \n",
       "1706 -0.001430 -1.348677  0.103370  3.135777 -0.300838 -1.398247 -0.374041   \n",
       "1707  0.607897 -1.348677  1.018590  0.661076 -0.300838  0.715181 -0.374041   \n",
       "1708  0.073459 -0.457717 -0.583045 -0.789988 -0.300838  0.715181 -0.374041   \n",
       "1709 -1.900897 -0.457717 -0.125435 -0.508474 -0.300838  0.715181 -0.374041   \n",
       "1710 -1.325611  0.433243  1.018590  2.020066 -0.300838  0.715181 -0.374041   \n",
       "\n",
       "            7         8         9   ...        12        13        14  \\\n",
       "0    -0.922598 -0.146603 -1.125267  ...  0.459237 -1.204695 -1.105098   \n",
       "1     0.776611 -0.146603  0.888678  ...  0.459237  0.830086  0.005191   \n",
       "2    -0.922598 -0.146603  0.888678  ...  0.459237  0.830086  0.005191   \n",
       "3    -0.922598 -0.146603 -1.125267  ...  0.459237 -1.204695 -1.105098   \n",
       "4     0.776611 -0.146603 -1.125267  ...  0.459237 -1.204695 -1.105098   \n",
       "...        ...       ...       ...  ...       ...       ...       ...   \n",
       "1706 -0.922598 -0.146603 -1.125267  ... -2.177524 -1.204695 -1.105098   \n",
       "1707  0.776611 -0.146603  0.888678  ...  0.459237  0.830086  1.115481   \n",
       "1708  0.776611 -0.146603  0.888678  ...  0.459237  0.830086  0.005191   \n",
       "1709 -0.922598 -0.146603  0.888678  ...  0.459237  0.830086  1.115481   \n",
       "1710 -2.621807 -0.146603 -1.125267  ...  0.459237 -1.204695 -1.105098   \n",
       "\n",
       "            15        16        17        18        19        20        21  \n",
       "0    -0.444231  0.572176 -0.763409 -0.595483 -0.145292 -0.026340 -0.294955  \n",
       "1    -0.444231 -1.747713  1.309913  0.105845  0.711481 -0.471168 -0.313603  \n",
       "2    -0.444231 -1.747713  1.309913  0.790475 -0.241250  1.522085  0.453299  \n",
       "3    -0.444231  0.572176 -0.763409 -0.553737 -0.590814 -0.892695 -0.789129  \n",
       "4     2.251083  0.572176 -0.763409 -0.637229 -0.467438 -0.835503 -0.602648  \n",
       "...        ...       ...       ...       ...       ...       ...       ...  \n",
       "1706 -0.444231 -1.747713  1.309913 -1.271764 -1.132294  0.498981  0.576842  \n",
       "1707 -0.444231 -1.747713 -0.763409  0.823872  0.567543 -0.426685 -0.462787  \n",
       "1708  2.251083  0.572176 -0.763409 -0.011043 -0.542834 -0.337719 -0.332251  \n",
       "1709 -0.444231  0.572176  1.309913 -0.628880 -1.570962  0.649375  0.138613  \n",
       "1710 -0.444231  0.572176  1.309913 -1.054686 -0.755314 -0.558015 -0.901017  \n",
       "\n",
       "[1711 rows x 22 columns]"
      ]
     },
     "execution_count": 12,
     "metadata": {},
     "output_type": "execute_result"
    }
   ],
   "source": [
    "pd.DataFrame(X_train)"
   ]
  },
  {
   "cell_type": "markdown",
   "id": "75fcc461",
   "metadata": {},
   "source": [
    "# Training our model"
   ]
  },
  {
   "cell_type": "code",
   "execution_count": 13,
   "id": "866cb4d8",
   "metadata": {},
   "outputs": [
    {
     "name": "stdout",
     "output_type": "stream",
     "text": [
      "📊 Decision Tree Results\n",
      "Accuracy: 0.8504672897196262\n",
      "              precision    recall  f1-score   support\n",
      "\n",
      "           0       0.90      0.91      0.90       327\n",
      "           1       0.69      0.67      0.68       101\n",
      "\n",
      "    accuracy                           0.85       428\n",
      "   macro avg       0.79      0.79      0.79       428\n",
      "weighted avg       0.85      0.85      0.85       428\n",
      "\n"
     ]
    }
   ],
   "source": [
    "# Initialize and train the model\n",
    "dt_model = DecisionTreeClassifier(random_state=28)\n",
    "dt_model.fit(X_train, y_train)\n",
    "\n",
    "# Predict\n",
    "dt_preds = dt_model.predict(X_test)\n",
    "\n",
    "# Evaluation\n",
    "print(\"📊 Decision Tree Results\")\n",
    "print(\"Accuracy:\", accuracy_score(y_test, dt_preds))\n",
    "print(classification_report(y_test, dt_preds))"
   ]
  },
  {
   "cell_type": "code",
   "execution_count": 14,
   "id": "2bf6c17d",
   "metadata": {},
   "outputs": [
    {
     "name": "stdout",
     "output_type": "stream",
     "text": [
      "📊 Logistic Regression Results\n",
      "Accuracy: 0.8598130841121495\n",
      "              precision    recall  f1-score   support\n",
      "\n",
      "           0       0.88      0.95      0.91       327\n",
      "           1       0.78      0.56      0.66       101\n",
      "\n",
      "    accuracy                           0.86       428\n",
      "   macro avg       0.83      0.76      0.78       428\n",
      "weighted avg       0.85      0.86      0.85       428\n",
      "\n"
     ]
    },
    {
     "data": {
      "image/png": "[encoded data removed]",
      "text/plain": [
       "<Figure size 640x480 with 2 Axes>"
      ]
     },
     "metadata": {},
     "output_type": "display_data"
    }
   ],
   "source": [
    "from sklearn.linear_model import LogisticRegression\n",
    "from sklearn.metrics import accuracy_score, classification_report, confusion_matrix\n",
    "\n",
    "# Train the model\n",
    "lr_model = LogisticRegression(max_iter=10000)  # increase max_iter if convergence warnings\n",
    "lr_model.fit(X_train, y_train)\n",
    "\n",
    "# Predict\n",
    "lr_preds = lr_model.predict(X_test)\n",
    "\n",
    "# Evaluate\n",
    "print(\"📊 Logistic Regression Results\")\n",
    "print(\"Accuracy:\", accuracy_score(y_test, lr_preds))\n",
    "print(classification_report(y_test, lr_preds))\n",
    "\n",
    "# Confusion matrix\n",
    "import seaborn as sns\n",
    "import matplotlib.pyplot as plt\n",
    "\n",
    "cm = confusion_matrix(y_test, lr_preds)\n",
    "sns.heatmap(cm, annot=True, fmt='d', cmap='Greens')\n",
    "plt.title(\"Logistic Regression - Confusion Matrix\")\n",
    "plt.xlabel(\"Predicted\")\n",
    "plt.ylabel(\"Actual\")\n",
    "plt.show()\n"
   ]
  },
  {
   "cell_type": "code",
   "execution_count": 15,
   "id": "42c5f174",
   "metadata": {},
   "outputs": [
    {
     "name": "stdout",
     "output_type": "stream",
     "text": [
      "📊 Neural Network (MLP) Results\n",
      "Accuracy: 0.8621495327102804\n",
      "              precision    recall  f1-score   support\n",
      "\n",
      "           0       0.89      0.93      0.91       327\n",
      "           1       0.74      0.64      0.69       101\n",
      "\n",
      "    accuracy                           0.86       428\n",
      "   macro avg       0.82      0.79      0.80       428\n",
      "weighted avg       0.86      0.86      0.86       428\n",
      "\n"
     ]
    },
    {
     "data": {
      "image/png": "[encoded data removed]",
      "text/plain": [
       "<Figure size 640x480 with 2 Axes>"
      ]
     },
     "metadata": {},
     "output_type": "display_data"
    }
   ],
   "source": [
    "from sklearn.neural_network import MLPClassifier\n",
    "\n",
    "# Create and train the model\n",
    "nn_model = MLPClassifier(hidden_layer_sizes=(64, 32), max_iter=500, random_state=42)\n",
    "nn_model.fit(X_train, y_train)\n",
    "\n",
    "# Predict\n",
    "nn_preds = nn_model.predict(X_test)\n",
    "\n",
    "# Evaluate\n",
    "print(\"📊 Neural Network (MLP) Results\")\n",
    "print(\"Accuracy:\", accuracy_score(y_test, nn_preds))\n",
    "print(classification_report(y_test, nn_preds))\n",
    "\n",
    "# Confusion matrix\n",
    "cm_nn = confusion_matrix(y_test, nn_preds)\n",
    "sns.heatmap(cm_nn, annot=True, fmt='d', cmap='Purples')\n",
    "plt.title(\"Neural Network - Confusion Matrix\")\n",
    "plt.xlabel(\"Predicted\")\n",
    "plt.ylabel(\"Actual\")\n",
    "plt.show()\n"
   ]
  },
  {
   "cell_type": "code",
   "execution_count": 16,
   "id": "fdcee247",
   "metadata": {},
   "outputs": [
    {
     "name": "stderr",
     "output_type": "stream",
     "text": [
      "d:\\disha-ml-project\\disha-ml-project-venv\\Lib\\site-packages\\xgboost\\training.py:183: UserWarning: [01:38:13] WARNING: C:\\actions-runner\\_work\\xgboost\\xgboost\\src\\learner.cc:738: \n",
      "Parameters: { \"use_label_encoder\" } are not used.\n",
      "\n",
      "  bst.update(dtrain, iteration=i, fobj=obj)\n"
     ]
    },
    {
     "name": "stdout",
     "output_type": "stream",
     "text": [
      "📊 XGBoost Classifier Results\n",
      "Accuracy: 0.8901869158878505\n",
      "              precision    recall  f1-score   support\n",
      "\n",
      "           0       0.92      0.94      0.93       327\n",
      "           1       0.79      0.73      0.76       101\n",
      "\n",
      "    accuracy                           0.89       428\n",
      "   macro avg       0.85      0.84      0.84       428\n",
      "weighted avg       0.89      0.89      0.89       428\n",
      "\n"
     ]
    },
    {
     "data": {
      "image/png": "[encoded data removed]",
      "text/plain": [
       "<Figure size 640x480 with 2 Axes>"
      ]
     },
     "metadata": {},
     "output_type": "display_data"
    }
   ],
   "source": [
    "from xgboost import XGBClassifier\n",
    "from sklearn.metrics import accuracy_score, classification_report, confusion_matrix\n",
    "import seaborn as sns\n",
    "import matplotlib.pyplot as plt\n",
    "\n",
    "# Train the model\n",
    "xgb_model = XGBClassifier(use_label_encoder=False, eval_metric='logloss')\n",
    "xgb_model.fit(X_train, y_train)\n",
    "\n",
    "# Predict\n",
    "xgb_preds = xgb_model.predict(X_test)\n",
    "\n",
    "# Evaluate\n",
    "print(\"📊 XGBoost Classifier Results\")\n",
    "print(\"Accuracy:\", accuracy_score(y_test, xgb_preds))\n",
    "print(classification_report(y_test, xgb_preds))\n",
    "\n",
    "# Confusion Matrix\n",
    "cm = confusion_matrix(y_test, xgb_preds)\n",
    "sns.heatmap(cm, annot=True, fmt='d', cmap='Blues')\n",
    "plt.title(\"XGBoost - Confusion Matrix\")\n",
    "plt.xlabel(\"Predicted\")\n",
    "plt.ylabel(\"Actual\")\n",
    "plt.show()\n"
   ]
  },
  {
   "cell_type": "code",
   "execution_count": 17,
   "id": "eb934749",
   "metadata": {},
   "outputs": [
    {
     "name": "stdout",
     "output_type": "stream",
     "text": [
      "📊 Random Forest Classifier Results\n",
      "Accuracy: 0.8948598130841121\n",
      "              precision    recall  f1-score   support\n",
      "\n",
      "           0       0.91      0.96      0.93       327\n",
      "           1       0.85      0.67      0.75       101\n",
      "\n",
      "    accuracy                           0.89       428\n",
      "   macro avg       0.88      0.82      0.84       428\n",
      "weighted avg       0.89      0.89      0.89       428\n",
      "\n"
     ]
    },
    {
     "data": {
      "image/png": "[encoded data removed]",
      "text/plain": [
       "<Figure size 640x480 with 2 Axes>"
      ]
     },
     "metadata": {},
     "output_type": "display_data"
    }
   ],
   "source": [
    "from sklearn.ensemble import RandomForestClassifier\n",
    "from sklearn.metrics import accuracy_score, classification_report, confusion_matrix\n",
    "import seaborn as sns\n",
    "import matplotlib.pyplot as plt\n",
    "\n",
    "# Train the model\n",
    "rf_model = RandomForestClassifier(n_estimators=100, random_state=42)\n",
    "rf_model.fit(X_train, y_train)\n",
    "\n",
    "# Predict\n",
    "rf_preds = rf_model.predict(X_test)\n",
    "\n",
    "# Evaluate\n",
    "print(\"📊 Random Forest Classifier Results\")\n",
    "print(\"Accuracy:\", accuracy_score(y_test, rf_preds))\n",
    "print(classification_report(y_test, rf_preds))\n",
    "\n",
    "# Confusion Matrix\n",
    "cm = confusion_matrix(y_test, rf_preds)\n",
    "sns.heatmap(cm, annot=True, fmt='d', cmap='Oranges')\n",
    "plt.title(\"Random Forest - Confusion Matrix\")\n",
    "plt.xlabel(\"Predicted\")\n",
    "plt.ylabel(\"Actual\")\n",
    "plt.show()\n"
   ]
  }
 ],
 "metadata": {
  "kernelspec": {
   "display_name": "disha-ml-project-venv",
   "language": "python",
   "name": "python3"
  },
  "language_info": {
   "codemirror_mode": {
    "name": "ipython",
    "version": 3
   },
   "file_extension": ".py",
   "mimetype": "text/x-python",
   "name": "python",
   "nbconvert_exporter": "python",
   "pygments_lexer": "ipython3",
   "version": "3.12.7"
  }
 },
 "nbformat": 4,
 "nbformat_minor": 5
}
